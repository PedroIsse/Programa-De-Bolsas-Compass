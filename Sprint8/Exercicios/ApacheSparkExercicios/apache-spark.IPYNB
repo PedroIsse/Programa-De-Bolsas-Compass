{
 "cells": [
  {
   "cell_type": "markdown",
   "metadata": {},
   "source": [
    "# **Etapa 1**"
   ]
  },
  {
   "cell_type": "code",
   "execution_count": 22,
   "metadata": {},
   "outputs": [
    {
     "name": "stdout",
     "output_type": "stream",
     "text": [
      "+----------------+\n",
      "|             _c0|\n",
      "+----------------+\n",
      "|  Frances Bennet|\n",
      "|   Jamie Russell|\n",
      "|  Edward Kistler|\n",
      "|   Sheila Maurer|\n",
      "|Donald Golightly|\n",
      "+----------------+\n",
      "only showing top 5 rows\n",
      "\n"
     ]
    }
   ],
   "source": [
    "import pyspark \n",
    "from pyspark.sql import SparkSession\n",
    "from pyspark import SparkContext, SQLContext\n",
    "\n",
    "spark = SparkSession.builder.master(\"local[*]\").appName(\"Exercicio Intro\").getOrCreate()\n",
    "\n",
    "df_nomes = spark.read.csv(\"nomes_aleatorios.txt\")\n",
    "\n",
    "df_nomes.show(5)"
   ]
  },
  {
   "cell_type": "markdown",
   "metadata": {},
   "source": [
    "# **Etapa 2**"
   ]
  },
  {
   "cell_type": "code",
   "execution_count": 23,
   "metadata": {},
   "outputs": [
    {
     "name": "stdout",
     "output_type": "stream",
     "text": [
      "root\n",
      " |-- _c0: string (nullable = true)\n",
      "\n",
      "+-----------------+\n",
      "|            Nomes|\n",
      "+-----------------+\n",
      "|   Frances Bennet|\n",
      "|    Jamie Russell|\n",
      "|   Edward Kistler|\n",
      "|    Sheila Maurer|\n",
      "| Donald Golightly|\n",
      "|       David Gray|\n",
      "|      Joy Bennett|\n",
      "|      Paul Kriese|\n",
      "|Berniece Ornellas|\n",
      "|    Brian Farrell|\n",
      "+-----------------+\n",
      "only showing top 10 rows\n",
      "\n"
     ]
    }
   ],
   "source": [
    "df_nomes.printSchema()\n",
    "\n",
    "df_nomes = df_nomes.withColumnRenamed(\"_c0\", \"Nomes\")\n",
    "\n",
    "df_nomes.show(10)"
   ]
  },
  {
   "cell_type": "markdown",
   "metadata": {},
   "source": [
    "# **Etapa 3**"
   ]
  },
  {
   "cell_type": "code",
   "execution_count": 24,
   "metadata": {},
   "outputs": [
    {
     "name": "stdout",
     "output_type": "stream",
     "text": [
      "+-----------------+------------+\n",
      "|            Nomes|Escolaridade|\n",
      "+-----------------+------------+\n",
      "|   Frances Bennet|       Médio|\n",
      "|    Jamie Russell|       Médio|\n",
      "|   Edward Kistler|    Superior|\n",
      "|    Sheila Maurer|    Superior|\n",
      "| Donald Golightly|    Superior|\n",
      "|       David Gray| Fundamental|\n",
      "|      Joy Bennett|    Superior|\n",
      "|      Paul Kriese|       Médio|\n",
      "|Berniece Ornellas| Fundamental|\n",
      "|    Brian Farrell|       Médio|\n",
      "+-----------------+------------+\n",
      "only showing top 10 rows\n",
      "\n"
     ]
    }
   ],
   "source": [
    "from pyspark.sql.functions import when, rand\n",
    "\n",
    "df_nomes = df_nomes = df_nomes.withColumn(\"Escolaridade\", when(rand() < 0.33, \"Fundamental\").when(rand() > 0.66, \"Médio\").otherwise(\"Superior\"))\n",
    "\n",
    "df_nomes.show(10)"
   ]
  },
  {
   "cell_type": "markdown",
   "metadata": {},
   "source": [
    "# **Etapa 4**"
   ]
  },
  {
   "cell_type": "code",
   "execution_count": 25,
   "metadata": {},
   "outputs": [
    {
     "name": "stdout",
     "output_type": "stream",
     "text": [
      "+-----------------+------------+---------+\n",
      "|            Nomes|Escolaridade|     Pais|\n",
      "+-----------------+------------+---------+\n",
      "|   Frances Bennet|       Médio|  Bolívia|\n",
      "|    Jamie Russell|       Médio|  Bolívia|\n",
      "|   Edward Kistler|    Superior| Paraguai|\n",
      "|    Sheila Maurer|    Superior|Argentina|\n",
      "| Donald Golightly|    Superior|  Uruguai|\n",
      "|       David Gray| Fundamental|   Brasil|\n",
      "|      Joy Bennett|    Superior|    Chile|\n",
      "|      Paul Kriese|       Médio| Colômbia|\n",
      "|Berniece Ornellas| Fundamental|  Bolívia|\n",
      "|    Brian Farrell|       Médio|    Chile|\n",
      "+-----------------+------------+---------+\n",
      "only showing top 10 rows\n",
      "\n"
     ]
    }
   ],
   "source": [
    "paises = [\n",
    "    \"Argentina\", \"Bolívia\", \"Brasil\", \"Chile\", \"Colômbia\", \"Ecuador\", \n",
    "    \"Guiana\", \"Paraguai\", \"Peru\", \"Suriname\", \"Uruguai\", \"Venezuela\", \"Guiana Francesa\"\n",
    "]\n",
    "\n",
    "df_nomes = df_nomes.withColumn(\n",
    "    \"Pais\",\n",
    "    when(rand() < 1/13, paises[0])\n",
    "    .when(rand() < 2/13, paises[1])\n",
    "    .when(rand() < 3/13, paises[2])\n",
    "    .when(rand() < 4/13, paises[3])\n",
    "    .when(rand() < 5/13, paises[4])\n",
    "    .when(rand() < 6/13, paises[5])\n",
    "    .when(rand() < 7/13, paises[6])\n",
    "    .when(rand() < 8/13, paises[7])\n",
    "    .when(rand() < 9/13, paises[8])\n",
    "    .when(rand() < 10/13, paises[9])\n",
    "    .when(rand() < 11/13, paises[10])\n",
    "    .when(rand() < 12/13, paises[11])\n",
    "    .otherwise(paises[12])\n",
    ")\n",
    "\n",
    "df_nomes.show(10)"
   ]
  },
  {
   "cell_type": "markdown",
   "metadata": {},
   "source": [
    "# **Etapa 5**"
   ]
  },
  {
   "cell_type": "code",
   "execution_count": 26,
   "metadata": {},
   "outputs": [
    {
     "name": "stdout",
     "output_type": "stream",
     "text": [
      "+-----------------+------------+---------+----+\n",
      "|            Nomes|Escolaridade|     Pais| Ano|\n",
      "+-----------------+------------+---------+----+\n",
      "|   Frances Bennet|       Médio|  Bolívia|1955|\n",
      "|    Jamie Russell|       Médio|  Bolívia|1988|\n",
      "|   Edward Kistler|    Superior| Paraguai|1948|\n",
      "|    Sheila Maurer|    Superior|Argentina|1958|\n",
      "| Donald Golightly|    Superior|  Uruguai|1984|\n",
      "|       David Gray| Fundamental|   Brasil|2010|\n",
      "|      Joy Bennett|    Superior|    Chile|1960|\n",
      "|      Paul Kriese|       Médio| Colômbia|1974|\n",
      "|Berniece Ornellas| Fundamental|  Bolívia|2000|\n",
      "|    Brian Farrell|       Médio|    Chile|1974|\n",
      "+-----------------+------------+---------+----+\n",
      "only showing top 10 rows\n",
      "\n"
     ]
    }
   ],
   "source": [
    "ano_inicio = 1945\n",
    "ano_fim = 2010\n",
    "\n",
    "df_nomes = df_nomes.withColumn(\"Ano\", (rand() * (ano_fim - ano_inicio + 1) + ano_inicio).cast(\"int\"))\n",
    "\n",
    "df_nomes.show(10)"
   ]
  },
  {
   "cell_type": "markdown",
   "metadata": {},
   "source": [
    "# **Etapa 6**"
   ]
  },
  {
   "cell_type": "code",
   "execution_count": 27,
   "metadata": {},
   "outputs": [
    {
     "name": "stdout",
     "output_type": "stream",
     "text": [
      "+---------------+\n",
      "|          Nomes|\n",
      "+---------------+\n",
      "|     David Gray|\n",
      "|   David Medina|\n",
      "|       Mary Lee|\n",
      "| Wilfredo Grant|\n",
      "|  Michael Agnew|\n",
      "|    Donald Vogt|\n",
      "|  Milton Dillon|\n",
      "|    Milton Rowe|\n",
      "|Charles Randall|\n",
      "|  Evelyn Shaver|\n",
      "+---------------+\n",
      "only showing top 10 rows\n",
      "\n"
     ]
    }
   ],
   "source": [
    "from pyspark.sql.functions import col\n",
    "\n",
    "df_select = df_nomes.select(\"Nomes\").where(col('Ano') > 2000)\n",
    "\n",
    "df_select.show(10)"
   ]
  },
  {
   "cell_type": "markdown",
   "metadata": {},
   "source": [
    "# **Etapa 7**"
   ]
  },
  {
   "cell_type": "code",
   "execution_count": 28,
   "metadata": {},
   "outputs": [
    {
     "name": "stdout",
     "output_type": "stream",
     "text": [
      "+---------------+\n",
      "|          Nomes|\n",
      "+---------------+\n",
      "|     David Gray|\n",
      "|   David Medina|\n",
      "|       Mary Lee|\n",
      "| Wilfredo Grant|\n",
      "|  Michael Agnew|\n",
      "|    Donald Vogt|\n",
      "|  Milton Dillon|\n",
      "|    Milton Rowe|\n",
      "|Charles Randall|\n",
      "|  Evelyn Shaver|\n",
      "|  Joyce Bennett|\n",
      "|    Linda Batts|\n",
      "|    John Snipes|\n",
      "|    Wendi Klein|\n",
      "|    Velma Davis|\n",
      "|   Frank France|\n",
      "|  Ella Mitchell|\n",
      "|    Danny Bloom|\n",
      "|      Ann Scott|\n",
      "|  Margaret Lacy|\n",
      "+---------------+\n",
      "only showing top 20 rows\n",
      "\n"
     ]
    }
   ],
   "source": [
    "df_nomes.createOrReplaceGlobalTempView(\"pessoas\")\n",
    "\n",
    "spark.sql(\"SELECT Nomes FROM global_temp.pessoas WHERE Ano > 2000\").show()\n"
   ]
  },
  {
   "cell_type": "markdown",
   "metadata": {},
   "source": [
    "# **Etapa 8**"
   ]
  },
  {
   "cell_type": "code",
   "execution_count": 29,
   "metadata": {},
   "outputs": [
    {
     "data": {
      "text/plain": [
       "2272267"
      ]
     },
     "execution_count": 29,
     "metadata": {},
     "output_type": "execute_result"
    }
   ],
   "source": [
    "df_nomes.filter((col(\"Ano\") > 1979) & (col(\"Ano\") < 1995)).count()\n"
   ]
  },
  {
   "cell_type": "markdown",
   "metadata": {},
   "source": [
    "# **Etapa 9**"
   ]
  },
  {
   "cell_type": "code",
   "execution_count": 30,
   "metadata": {},
   "outputs": [
    {
     "name": "stdout",
     "output_type": "stream",
     "text": [
      "+-----------+\n",
      "|Millennials|\n",
      "+-----------+\n",
      "|    2272267|\n",
      "+-----------+\n",
      "\n"
     ]
    }
   ],
   "source": [
    "spark.sql(\"SELECT count(*) as Millennials FROM global_temp.pessoas WHERE Ano > 1979 AND Ano < 1995\").show()"
   ]
  },
  {
   "cell_type": "markdown",
   "metadata": {},
   "source": [
    "# **Etapa 10**"
   ]
  },
  {
   "cell_type": "code",
   "execution_count": 32,
   "metadata": {},
   "outputs": [
    {
     "name": "stdout",
     "output_type": "stream",
     "text": [
      "+---------------+--------------------+----------+\n",
      "|           Pais|             Geracao|Quantidade|\n",
      "+---------------+--------------------+----------+\n",
      "|      Argentina|           Geração X|    174260|\n",
      "|      Argentina|Millennials (Gera...|    174729|\n",
      "|      Argentina|           Geração Z|    186741|\n",
      "|      Argentina|        Baby Boomers|    234092|\n",
      "|        Bolívia|           Geração X|    322717|\n",
      "|        Bolívia|Millennials (Gera...|    322870|\n",
      "|        Bolívia|           Geração Z|    343978|\n",
      "|        Bolívia|        Baby Boomers|    430503|\n",
      "|         Brasil|           Geração X|    409339|\n",
      "|         Brasil|Millennials (Gera...|    409652|\n",
      "|         Brasil|           Geração Z|    436881|\n",
      "|         Brasil|        Baby Boomers|    545438|\n",
      "|          Chile|           Geração X|    419738|\n",
      "|          Chile|Millennials (Gera...|    419879|\n",
      "|          Chile|           Geração Z|    449067|\n",
      "|          Chile|        Baby Boomers|    560353|\n",
      "|       Colômbia|           Geração X|    363811|\n",
      "|       Colômbia|Millennials (Gera...|    363853|\n",
      "|       Colômbia|           Geração Z|    388947|\n",
      "|       Colômbia|        Baby Boomers|    484410|\n",
      "|        Ecuador|Millennials (Gera...|    268443|\n",
      "|        Ecuador|           Geração X|    268626|\n",
      "|        Ecuador|           Geração Z|    286604|\n",
      "|        Ecuador|        Baby Boomers|    356635|\n",
      "|         Guiana|Millennials (Gera...|    168474|\n",
      "|         Guiana|           Geração X|    169099|\n",
      "|         Guiana|           Geração Z|    179710|\n",
      "|         Guiana|        Baby Boomers|    225028|\n",
      "|Guiana Francesa|           Geração X|        34|\n",
      "|Guiana Francesa|           Geração Z|        49|\n",
      "|Guiana Francesa|Millennials (Gera...|        52|\n",
      "|Guiana Francesa|        Baby Boomers|        60|\n",
      "|       Paraguai|Millennials (Gera...|     89077|\n",
      "|       Paraguai|           Geração X|     89229|\n",
      "|       Paraguai|           Geração Z|     94821|\n",
      "|       Paraguai|        Baby Boomers|    118839|\n",
      "|           Peru|Millennials (Gera...|     38252|\n",
      "|           Peru|           Geração X|     38396|\n",
      "|           Peru|           Geração Z|     41004|\n",
      "|           Peru|        Baby Boomers|     51424|\n",
      "|       Suriname|           Geração X|     13121|\n",
      "|       Suriname|Millennials (Gera...|     13182|\n",
      "|       Suriname|           Geração Z|     13989|\n",
      "|       Suriname|        Baby Boomers|     17562|\n",
      "|        Uruguai|Millennials (Gera...|      3235|\n",
      "|        Uruguai|           Geração X|      3337|\n",
      "|        Uruguai|           Geração Z|      3480|\n",
      "|        Uruguai|        Baby Boomers|      4500|\n",
      "|      Venezuela|Millennials (Gera...|       569|\n",
      "|      Venezuela|           Geração X|       573|\n",
      "|      Venezuela|           Geração Z|       611|\n",
      "|      Venezuela|        Baby Boomers|       727|\n",
      "+---------------+--------------------+----------+\n",
      "\n"
     ]
    }
   ],
   "source": [
    "df_resultado = spark.sql(\"\"\"\n",
    "    SELECT \n",
    "        Pais,\n",
    "        CASE\n",
    "            WHEN Ano < 1965 THEN 'Baby Boomers'\n",
    "            WHEN Ano < 1980 THEN 'Geração X'\n",
    "            WHEN Ano < 1995 THEN 'Millennials (Geração Y)'\n",
    "            ELSE 'Geração Z'\n",
    "        END AS Geracao,  \n",
    "        COUNT(*) AS Quantidade\n",
    "    FROM global_temp.pessoas\n",
    "    GROUP BY Pais, \n",
    "        CASE \n",
    "            WHEN Ano < 1965 THEN 'Baby Boomers'\n",
    "            WHEN Ano < 1980 THEN 'Geração X'\n",
    "            WHEN Ano < 1995 THEN 'Millennials (Geração Y)'\n",
    "            ELSE 'Geração Z'\n",
    "        END\n",
    "    ORDER BY Pais, Quantidade, \n",
    "        CASE \n",
    "            WHEN Ano < 1965 THEN 'Baby Boomers'\n",
    "            WHEN Ano < 1980 THEN 'Geração X'\n",
    "            WHEN Ano < 1995 THEN 'Millennials (Geração Y)'\n",
    "            ELSE 'Geração Z'\n",
    "        END\n",
    "\"\"\")\n",
    "\n",
    "df_resultado.show(52)\n"
   ]
  }
 ],
 "metadata": {
  "kernelspec": {
   "display_name": "Python 3",
   "language": "python",
   "name": "python3"
  },
  "language_info": {
   "codemirror_mode": {
    "name": "ipython",
    "version": 3
   },
   "file_extension": ".py",
   "mimetype": "text/x-python",
   "name": "python",
   "nbconvert_exporter": "python",
   "pygments_lexer": "ipython3",
   "version": "3.11.4"
  }
 },
 "nbformat": 4,
 "nbformat_minor": 2
}
